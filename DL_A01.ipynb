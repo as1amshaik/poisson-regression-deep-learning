{
 "cells": [
  {
   "cell_type": "code",
   "execution_count": 1,
   "id": "43991b8e-6fd5-434d-9c43-bfeb1a9ff720",
   "metadata": {},
   "outputs": [
    {
     "name": "stderr",
     "output_type": "stream",
     "text": [
      "/var/folders/np/gq4pf7wx2b1btsznkmxtvtzh0000gn/T/ipykernel_47855/2378859799.py:2: DeprecationWarning: \n",
      "Pyarrow will become a required dependency of pandas in the next major release of pandas (pandas 3.0),\n",
      "(to allow more performant data types, such as the Arrow string type, and better interoperability with other libraries)\n",
      "but was not found to be installed on your system.\n",
      "If this would cause problems for you,\n",
      "please provide us feedback at https://github.com/pandas-dev/pandas/issues/54466\n",
      "        \n",
      "  import pandas as pd\n"
     ]
    },
    {
     "data": {
      "text/html": [
       "<div>\n",
       "<style scoped>\n",
       "    .dataframe tbody tr th:only-of-type {\n",
       "        vertical-align: middle;\n",
       "    }\n",
       "\n",
       "    .dataframe tbody tr th {\n",
       "        vertical-align: top;\n",
       "    }\n",
       "\n",
       "    .dataframe thead th {\n",
       "        text-align: right;\n",
       "    }\n",
       "</style>\n",
       "<table border=\"1\" class=\"dataframe\">\n",
       "  <thead>\n",
       "    <tr style=\"text-align: right;\">\n",
       "      <th></th>\n",
       "      <th>Y</th>\n",
       "      <th>X1</th>\n",
       "      <th>X2</th>\n",
       "      <th>X3</th>\n",
       "      <th>X4</th>\n",
       "      <th>X5</th>\n",
       "    </tr>\n",
       "  </thead>\n",
       "  <tbody>\n",
       "    <tr>\n",
       "      <th>0</th>\n",
       "      <td>5</td>\n",
       "      <td>0.422447</td>\n",
       "      <td>0.971883</td>\n",
       "      <td>0.533636</td>\n",
       "      <td>0.058229</td>\n",
       "      <td>0.912143</td>\n",
       "    </tr>\n",
       "    <tr>\n",
       "      <th>1</th>\n",
       "      <td>2</td>\n",
       "      <td>0.382487</td>\n",
       "      <td>0.507943</td>\n",
       "      <td>0.950425</td>\n",
       "      <td>0.174120</td>\n",
       "      <td>0.551095</td>\n",
       "    </tr>\n",
       "    <tr>\n",
       "      <th>2</th>\n",
       "      <td>4</td>\n",
       "      <td>0.742815</td>\n",
       "      <td>0.789894</td>\n",
       "      <td>0.374025</td>\n",
       "      <td>0.320585</td>\n",
       "      <td>0.286143</td>\n",
       "    </tr>\n",
       "    <tr>\n",
       "      <th>3</th>\n",
       "      <td>6</td>\n",
       "      <td>0.905309</td>\n",
       "      <td>0.093778</td>\n",
       "      <td>0.552340</td>\n",
       "      <td>0.909098</td>\n",
       "      <td>0.836523</td>\n",
       "    </tr>\n",
       "    <tr>\n",
       "      <th>4</th>\n",
       "      <td>7</td>\n",
       "      <td>0.557285</td>\n",
       "      <td>0.567502</td>\n",
       "      <td>0.552205</td>\n",
       "      <td>0.988464</td>\n",
       "      <td>0.989089</td>\n",
       "    </tr>\n",
       "  </tbody>\n",
       "</table>\n",
       "</div>"
      ],
      "text/plain": [
       "   Y        X1        X2        X3        X4        X5\n",
       "0  5  0.422447  0.971883  0.533636  0.058229  0.912143\n",
       "1  2  0.382487  0.507943  0.950425  0.174120  0.551095\n",
       "2  4  0.742815  0.789894  0.374025  0.320585  0.286143\n",
       "3  6  0.905309  0.093778  0.552340  0.909098  0.836523\n",
       "4  7  0.557285  0.567502  0.552205  0.988464  0.989089"
      ]
     },
     "execution_count": 1,
     "metadata": {},
     "output_type": "execute_result"
    }
   ],
   "source": [
    "# DEEP LEARNING A01\n",
    "import pandas as pd\n",
    "import torch\n",
    "import torch.nn as nn\n",
    "import torch.optim as optim\n",
    "import numpy as np\n",
    "import seaborn as sns\n",
    "import matplotlib.pyplot as plt\n",
    "\n",
    "\n",
    "file_path = 'HW1_poisson_regression_data.csv'\n",
    "# load data \n",
    "\n",
    "df = pd.read_csv(file_path)\n",
    "\n",
    "df.head() # display data \n"
   ]
  },
  {
   "cell_type": "code",
   "execution_count": 2,
   "id": "316da56b-cc82-4daf-a539-827cfe098860",
   "metadata": {},
   "outputs": [],
   "source": [
    "y=df['Y'] # target column\n",
    "prediction_vars=['X1','X2','X3','X4','X5']\n",
    "X=df[prediction_vars]\n",
    "X['B']=1 # adding bias col "
   ]
  },
  {
   "cell_type": "code",
   "execution_count": 3,
   "id": "30adcd2f-2388-4fb2-88d6-c527dc2208c4",
   "metadata": {
    "scrolled": true
   },
   "outputs": [
    {
     "name": "stdout",
     "output_type": "stream",
     "text": [
      "Epoch 0, Loss: 3.096318006515503\n",
      "Epoch 100, Loss: -1.7333523035049438\n",
      "Epoch 200, Loss: -1.7455695867538452\n",
      "Epoch 300, Loss: -1.753294825553894\n",
      "Epoch 400, Loss: -1.7582199573516846\n",
      "Epoch 500, Loss: -1.7613834142684937\n",
      "Epoch 600, Loss: -1.763427972793579\n",
      "Epoch 700, Loss: -1.764756441116333\n",
      "Epoch 800, Loss: -1.765623927116394\n",
      "Epoch 900, Loss: -1.7661919593811035\n",
      "Poisson Regression Weights: [[0.03189939 0.04381549 0.01808241 0.02651459 0.02039742 0.4565913 ]]\n",
      "Mean Squared Error on complete data Set: 4.800190448760986\n"
     ]
    }
   ],
   "source": [
    "\n",
    "\n",
    "class PoissonRegressionModel(nn.Module):\n",
    "    def __init__(self, input_size):\n",
    "        super(PoissonRegressionModel, self).__init__()\n",
    "        self.linear = nn.Linear(input_size, 1)\n",
    "\n",
    "    def forward(self, x):\n",
    "        return torch.exp(self.linear(x))\n",
    "    def MSE(self,x,y):\n",
    "        y_h=torch.exp(torch.matmul(x,self.linear.weight.T))\n",
    "        return torch.norm(y-y_h)\n",
    "        \n",
    "def poisson_loss(predictions, targets):\n",
    "    return torch.mean(predictions - targets * torch.log(predictions))\n",
    "\n",
    "input_size = df.shape[1]\n",
    "n=df.shape[0]\n",
    "model = PoissonRegressionModel(input_size)\n",
    "optimizer = optim.SGD(model.parameters(), lr=0.01)\n",
    "\n",
    "tensor_data_X = torch.tensor(X.values, dtype=torch.float32)\n",
    "tensor_data_y = torch.tensor(y.values, dtype=torch.float32)\n",
    "\n",
    "\n",
    "epochs = 1000\n",
    "losses=[]\n",
    "val_accuracies=[]\n",
    "for epoch in range(epochs):\n",
    "    predictions = model(tensor_data_X)\n",
    "    loss = poisson_loss(predictions, tensor_data_y)\n",
    "\n",
    "    optimizer.zero_grad()\n",
    "    loss.backward()\n",
    "    optimizer.step()\n",
    "    losses.append(loss.item())\n",
    "    # y_=tensor_data_y.detach().numpy()\n",
    "    # preds=predictions.detach().numpy()\n",
    "    # val_accuracy = accuracy_score(y_, preds)\n",
    "    # val_accuracies.append(val_accuracy)\n",
    "\n",
    "    # Print loss for monitoring\n",
    "    if epoch % 100 == 0:\n",
    "        print(f'Epoch {epoch}, Loss: {loss.item()}')\n",
    "        # print(f'MSE :: {model.MSE(tensor_data_X,tensor_data_y)}')\n",
    "\n",
    "# After training, you can access the regression weights\n",
    "weights = model.linear.weight.data.numpy()\n",
    "\n",
    "print(\"Poisson Regression Weights:\", weights)\n",
    "mse = model.MSE(tensor_data_X,tensor_data_y)\n",
    "print(f'Mean Squared Error on complete data Set: {mse/n}')\n"
   ]
  },
  {
   "cell_type": "code",
   "execution_count": 4,
   "id": "48ac988d-b7cb-4dcc-b763-3f2f67f69bd4",
   "metadata": {},
   "outputs": [
    {
     "data": {
      "image/png": "[encoded data removed]",
      "text/plain": [
       "<Figure size 1000x600 with 1 Axes>"
      ]
     },
     "metadata": {},
     "output_type": "display_data"
    }
   ],
   "source": [
    "sns.set(style=\"whitegrid\")\n",
    "plt.figure(figsize=(10, 6))\n",
    "sns.lineplot(x=range(epochs), y=losses, label='Poisson Regression Loss')\n",
    "plt.title('Poisson Regression Loss Over Training Epochs')\n",
    "plt.xlabel('Epochs')\n",
    "plt.ylabel('Loss')\n",
    "plt.show()"
   ]
  },
  {
   "cell_type": "code",
   "execution_count": null,
   "id": "44a217f9-e561-47ca-b364-a5b48739d596",
   "metadata": {},
   "outputs": [],
   "source": []
  }
 ],
 "metadata": {
  "kernelspec": {
   "display_name": "Python 3 (ipykernel)",
   "language": "python",
   "name": "python3"
  },
  "language_info": {
   "codemirror_mode": {
    "name": "ipython",
    "version": 3
   },
   "file_extension": ".py",
   "mimetype": "text/x-python",
   "name": "python",
   "nbconvert_exporter": "python",
   "pygments_lexer": "ipython3",
   "version": "3.12.0"
  }
 },
 "nbformat": 4,
 "nbformat_minor": 5
}
